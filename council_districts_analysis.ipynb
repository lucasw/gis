{
 "metadata": {
  "name": ""
 },
 "nbformat": 3,
 "nbformat_minor": 0,
 "worksheets": [
  {
   "cells": [
    {
     "cell_type": "markdown",
     "metadata": {},
     "source": [
      "Load already generated council district boundaries, then load census data and analyze it per district"
     ]
    },
    {
     "cell_type": "code",
     "collapsed": false,
     "input": [
      "filename = 'data/seattle_city_council_districts/seattle_city_council_districts.shp'"
     ],
     "language": "python",
     "metadata": {},
     "outputs": []
    },
    {
     "cell_type": "code",
     "collapsed": false,
     "input": [
      "import fiona\n",
      "import shapely.geometry\n",
      "import rtree"
     ],
     "language": "python",
     "metadata": {},
     "outputs": []
    },
    {
     "cell_type": "code",
     "collapsed": false,
     "input": [
      "def get_boundaries(filename):\n",
      "    handle = fiona.open(filename)\n",
      "    ridx = rtree.index.Index()\n",
      "    col = (0,0,0)\n",
      "    for ind, area in enumerate(handle):\n",
      "        print ind, area['properties']\n",
      "        geom =  shapely.geometry.shape(area['geometry'])\n",
      "        #print geom\n",
      "        ridx.insert(area['properties']['id'], geom.bounds)\n",
      "    return ridx"
     ],
     "language": "python",
     "metadata": {},
     "outputs": []
    },
    {
     "cell_type": "code",
     "collapsed": false,
     "input": [
      "ridx = get_boundaries(filename)"
     ],
     "language": "python",
     "metadata": {},
     "outputs": []
    }
   ],
   "metadata": {}
  }
 ]
}
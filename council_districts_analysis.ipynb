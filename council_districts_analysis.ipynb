{
 "metadata": {
  "name": ""
 },
 "nbformat": 3,
 "nbformat_minor": 0,
 "worksheets": [
  {
   "cells": [
    {
     "cell_type": "markdown",
     "metadata": {},
     "source": [
      "Load already generated council district boundaries, then load census data and analyze it per district"
     ]
    },
    {
     "cell_type": "code",
     "collapsed": false,
     "input": [
      "filename = 'data/seattle_city_council_districts/seattle_city_council_districts.shp'"
     ],
     "language": "python",
     "metadata": {},
     "outputs": []
    },
    {
     "cell_type": "code",
     "collapsed": false,
     "input": [
      "census_dir = \"../../gis/census/\"\n",
      "# WA\n",
      "census_shp = \"tabblock2010_53_pophu.shp\"\n",
      "census_file = census_dir + census_shp"
     ],
     "language": "python",
     "metadata": {},
     "outputs": []
    },
    {
     "cell_type": "code",
     "collapsed": false,
     "input": [
      "import fiona\n",
      "import shapely.geometry\n",
      "import rtree"
     ],
     "language": "python",
     "metadata": {},
     "outputs": []
    },
    {
     "cell_type": "code",
     "collapsed": false,
     "input": [
      "import shapely.ops\n",
      "\n",
      "def get_boundaries(filename):\n",
      "    handle = fiona.open(filename)\n",
      "    ridx = rtree.index.Index()\n",
      "    boundaries = {}\n",
      "    polygons = []\n",
      "    for ind, area in enumerate(handle):\n",
      "        print ind, area['properties']\n",
      "        geom = shapely.geometry.shape(area['geometry'])\n",
      "        # need to make the polygons overlap just a little\n",
      "        # to make the union produce a single outer boundary\n",
      "        polygons.append(geom.buffer(0.0005))\n",
      "        #print geom\n",
      "        ind = area['properties']['id']\n",
      "        ridx.insert(ind, geom.bounds)\n",
      "        boundaries[ind] = {}\n",
      "        boundaries[ind]['geom'] = geom\n",
      "        boundaries[ind]['raw'] = area\n",
      "    \n",
      "    # get boundary of seattle from union of all districts\n",
      "    outer_boundary = shapely.ops.cascaded_union(polygons)\n",
      "    \n",
      "    return ridx, boundaries, outer_boundary"
     ],
     "language": "python",
     "metadata": {},
     "outputs": []
    },
    {
     "cell_type": "code",
     "collapsed": false,
     "input": [
      "ridx, boundaries, outer_boundary = get_boundaries(filename)"
     ],
     "language": "python",
     "metadata": {},
     "outputs": []
    },
    {
     "cell_type": "code",
     "collapsed": false,
     "input": [
      "figure(figsize=(15,15))\n",
      "# this will be a MultiLineString if the cascading union didn't actually\n",
      "# get a full overlap\n",
      "print outer_boundary.boundary.type\n",
      "print boundaries[1]['geom'].boundary.type\n",
      "x,y = outer_boundary.boundary.xy\n",
      "plot(x, y, linewidth=3.0)\n",
      "for key in boundaries.keys():\n",
      "    \n",
      "    x,y = boundaries[key]['geom'].boundary.xy # outer_boundary.boundary.xy\n",
      "    plot(x, y)"
     ],
     "language": "python",
     "metadata": {},
     "outputs": []
    },
    {
     "cell_type": "code",
     "collapsed": false,
     "input": [
      "print ridx"
     ],
     "language": "python",
     "metadata": {},
     "outputs": []
    },
    {
     "cell_type": "code",
     "collapsed": false,
     "input": [
      "# load census data\n",
      "def get_tracts(filename, ridx, boundaries):\n",
      "    handle = fiona.open(filename)  \n",
      "    dist_tracts = {}\n",
      "    for ind, area in enumerate(handle):\n",
      "        geom = shapely.geometry.shape(area['geometry'])\n",
      "        item = {}\n",
      "        item['geom'] = geom\n",
      "        item['raw'] = area\n",
      "        bounds_overlap = [n for n in ridx.intersection(geom.bounds)]\n",
      "        for overlap_ind in bounds_overlap:\n",
      "            # TBD if area is split between multiple boundaries then \n",
      "            # make choice, or split up the geom between them\n",
      "            if boundaries[overlap_ind]['geom'].intersection(geom).area > 0:\n",
      "                if not overlap_ind in dist_tracts.keys():\n",
      "                    dist_tracts[overlap_ind] = []\n",
      "                dist_tracts[overlap_ind].append(item)\n",
      "                # break\n",
      "    return dist_tracts"
     ],
     "language": "python",
     "metadata": {},
     "outputs": []
    },
    {
     "cell_type": "code",
     "collapsed": false,
     "input": [
      "dist_tracts = get_tracts(census_file, ridx, boundaries)"
     ],
     "language": "python",
     "metadata": {},
     "outputs": []
    },
    {
     "cell_type": "code",
     "collapsed": false,
     "input": [],
     "language": "python",
     "metadata": {},
     "outputs": []
    },
    {
     "cell_type": "code",
     "collapsed": false,
     "input": [
      "total_pop = 0\n",
      "for key in dist_tracts.keys():\n",
      "    #print key, len(dist_tracts[key])\n",
      "    pop = 0\n",
      "    for tract in dist_tracts[key]:\n",
      "        pop += tract['raw']['properties']['POP10']\n",
      "    \n",
      "    total_pop += 0\n",
      "    print key, 'num_tracts', len(dist_tracts[key]), 'population', pop \n",
      "\n",
      "print 'pop', total_pop"
     ],
     "language": "python",
     "metadata": {},
     "outputs": []
    },
    {
     "cell_type": "code",
     "collapsed": false,
     "input": [
      "86558.0/87677.0"
     ],
     "language": "python",
     "metadata": {},
     "outputs": []
    }
   ],
   "metadata": {}
  }
 ]
}
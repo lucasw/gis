{
 "metadata": {
  "name": ""
 },
 "nbformat": 3,
 "nbformat_minor": 0,
 "worksheets": [
  {
   "cells": [
    {
     "cell_type": "markdown",
     "metadata": {},
     "source": [
      "Load already generated council district boundaries, then load census data and analyze it per district"
     ]
    },
    {
     "cell_type": "code",
     "collapsed": false,
     "input": [
      "dist_file = 'data/seattle_city_council_districts/seattle_city_council_districts.shp'"
     ],
     "language": "python",
     "metadata": {},
     "outputs": []
    },
    {
     "cell_type": "code",
     "collapsed": false,
     "input": [
      "census_dir = \"../../gis/census/\"\n",
      "# WA\n",
      "census_shp = \"tabblock2010_53_pophu.shp\"\n",
      "census_file = census_dir + census_shp"
     ],
     "language": "python",
     "metadata": {},
     "outputs": []
    },
    {
     "cell_type": "code",
     "collapsed": false,
     "input": [
      "import fiona\n",
      "import shapely.geometry\n",
      "import rtree"
     ],
     "language": "python",
     "metadata": {},
     "outputs": []
    },
    {
     "cell_type": "code",
     "collapsed": false,
     "input": [
      "import pyproj"
     ],
     "language": "python",
     "metadata": {},
     "outputs": []
    },
    {
     "cell_type": "code",
     "collapsed": false,
     "input": [
      "import shapely.ops\n",
      "\n",
      "# load district boundary data\n",
      "def get_boundaries(filename):\n",
      "    handle = fiona.open(filename)\n",
      "    ridx = rtree.index.Index()\n",
      "    boundaries = {}\n",
      "    polygons = []\n",
      "    for ind, area in enumerate(handle):\n",
      "        print ind, area['properties']\n",
      "        geom = shapely.geometry.shape(area['geometry'])\n",
      "        # need to make the polygons overlap just a little\n",
      "        # to make the union produce a single outer boundary\n",
      "        polygons.append(geom.buffer(0.0005))\n",
      "        #print geom\n",
      "        ind = area['properties']['id']\n",
      "        ridx.insert(ind, geom.bounds)\n",
      "        boundaries[ind] = {}\n",
      "        boundaries[ind]['geom'] = geom\n",
      "        boundaries[ind]['raw'] = area\n",
      "    \n",
      "    # get boundary of seattle from union of all districts\n",
      "    outer_boundary = shapely.ops.cascaded_union(polygons)\n",
      "    \n",
      "    return ridx, boundaries, outer_boundary"
     ],
     "language": "python",
     "metadata": {},
     "outputs": []
    },
    {
     "cell_type": "code",
     "collapsed": false,
     "input": [
      "ridx, boundaries, outer_boundary = get_boundaries(dist_file)"
     ],
     "language": "python",
     "metadata": {},
     "outputs": []
    },
    {
     "cell_type": "code",
     "collapsed": false,
     "input": [
      "def get_area_m2(border, pa):\n",
      "    \n",
      "    if border.geom_type == 'MultiPolygon':\n",
      "        area = 0\n",
      "        for geom in border.geoms:\n",
      "            area += get_area_m2(geom, pa)\n",
      "        return area\n",
      "        \n",
      "    x,y = border.exterior.xy\n",
      "    # lop off the last redundant point?\n",
      "    xp,yp =  pa(x,y) #pa(x[:-1],y[:-1])\n",
      "    cop = {\"type\": \"Polygon\", \"coordinates\": [zip(xp, yp)]}\n",
      "    bound_proj = shapely.geometry.shape(cop)\n",
      "    \n",
      "    area = bound_proj.area\n",
      "    #print pa(min(x), min(y))\n",
      "    #print pa(max(x), max(y))\n",
      "    #plot(xp, yp)\n",
      "    #print 'area square miles', area * 3.86102e-7\n",
      "    return area\n",
      "    "
     ],
     "language": "python",
     "metadata": {},
     "outputs": []
    },
    {
     "cell_type": "code",
     "collapsed": false,
     "input": [
      "x,y = outer_boundary.boundary.xy\n",
      "lon_min = min(x)\n",
      "lon_max = max(x)\n",
      "lat_min = min(y)\n",
      "lat_max = max(y)\n",
      "print lon_min, lon_max, lat_min, lat_max\n",
      "\n",
      "proj_cmd = \"+proj=aea +lat_1=\" + str(lat_min) + \" +lat_2=\" + str(lat_max) +\\\n",
      "            \" +lat_0=\" + str((lat_min + lat_max)/2) + \\\n",
      "            \" +lon_0=\" + str((lon_min + lon_max)/2) + \" +units=m\"\n",
      "print proj_cmd\n",
      "                                     \n",
      "pa = pyproj.Proj(proj_cmd)\n",
      "print pa\n",
      "\n",
      "figure(figsize=(10,10))\n",
      "# The square miles of Seattle is supposed to be 83.9, but these\n",
      "# census tracts contain a lot of water so this is bigger\n",
      "get_area_m2(outer_boundary, pa)\n",
      "\n",
      "area_total = 0\n",
      "for key in boundaries.keys():\n",
      "    #print ''\n",
      "    area = get_area_m2(boundaries[key]['geom'], pa) \n",
      "    print key, area\n",
      "    area_total += area\n",
      "    #plot(x, y)\n",
      "print area_total"
     ],
     "language": "python",
     "metadata": {},
     "outputs": []
    },
    {
     "cell_type": "code",
     "collapsed": false,
     "input": [
      "figure(figsize=(15,15))\n",
      "# this will be a MultiLineString if the cascading union didn't actually\n",
      "# get a full overlap\n",
      "print outer_boundary.boundary.type\n",
      "print boundaries[1]['geom'].boundary.type\n",
      "x,y = outer_boundary.boundary.xy\n",
      "plot(x, y, linewidth=3.0)\n",
      "for key in boundaries.keys():\n",
      "    \n",
      "    x,y = boundaries[key]['geom'].boundary.xy # outer_boundary.boundary.xy\n",
      "    plot(x, y)\n",
      "    \n",
      "    text(mean(x), mean(y), key)"
     ],
     "language": "python",
     "metadata": {},
     "outputs": []
    },
    {
     "cell_type": "code",
     "collapsed": false,
     "input": [
      "print ridx"
     ],
     "language": "python",
     "metadata": {},
     "outputs": []
    },
    {
     "cell_type": "code",
     "collapsed": false,
     "input": [
      "# load census data\n",
      "def get_tracts(filename, ridx, boundaries):\n",
      "    handle = fiona.open(filename)  \n",
      "    dist_tracts = {}\n",
      "    all_tracts = []\n",
      "    for ind, tract_raw in enumerate(handle):\n",
      "        geom = shapely.geometry.shape(tract_raw['geometry'])\n",
      "        item = {}\n",
      "        item['geom'] = geom\n",
      "        item['area'] = get_area_m2(geom, pa)\n",
      "        item['raw'] = tract_raw\n",
      "        \n",
      "        pop = item['raw']['properties']['POP10']\n",
      "        if item['area'] > 0:\n",
      "            density = pop / item['area']\n",
      "            item['density'] = density\n",
      "        else:\n",
      "            item['density'] = 0\n",
      "        \n",
      "        all_tracts.append(item)\n",
      "            \n",
      "        bounds_overlap = [n for n in ridx.intersection(geom.bounds)]\n",
      "        for overlap_ind in bounds_overlap:\n",
      "            # TBD if area is split between multiple boundaries then \n",
      "            # make choice, or split up the geom between them\n",
      "            if boundaries[overlap_ind]['geom'].intersection(geom).area > 0:\n",
      "                if not overlap_ind in dist_tracts.keys():\n",
      "                    dist_tracts[overlap_ind] = []\n",
      "                dist_tracts[overlap_ind].append(item)\n",
      "                # break\n",
      "                \n",
      "        # TBD sort the tracts by density so this doesn't have to be done repeatedly\n",
      "    return dist_tracts, all_tracts"
     ],
     "language": "python",
     "metadata": {},
     "outputs": []
    },
    {
     "cell_type": "code",
     "collapsed": false,
     "input": [
      "dist_tracts, all_tracts = get_tracts(census_file, ridx, boundaries)"
     ],
     "language": "python",
     "metadata": {},
     "outputs": []
    },
    {
     "cell_type": "code",
     "collapsed": false,
     "input": [
      "def density_profile(district):\n",
      "    sq_meter_to_acre = 0.000247105\n",
      "        \n",
      "    figure(figsize=(15,10))\n",
      "    x = 0\n",
      "    \n",
      "    pop = 0\n",
      "    for tract in district:\n",
      "        pop += tract['raw']['properties']['POP10']\n",
      "        \n",
      "        \n",
      "    pop_sum = 0\n",
      "    half_density = 0\n",
      "    half_x = 0\n",
      "    for tract in sorted(district, key=lambda k: k['density']):\n",
      "        \n",
      "        old_sum = pop_sum\n",
      "        pop_sum += tract['raw']['properties']['POP10']\n",
      "        area = tract['area']\n",
      "        density = tract['density']\n",
      "        \n",
      "        col = (1.0,0,0)\n",
      "        if pop_sum > pop*3/4:\n",
      "            col = (0,1,0)\n",
      "        elif pop_sum > pop/2:\n",
      "            col = (0,0,1)\n",
      "            if (old_sum < pop/2):\n",
      "                half_density = density / sq_meter_to_acre\n",
      "                half_x = x\n",
      "        \n",
      "        x2 = x + area * sq_meter_to_acre\n",
      "        y = density / sq_meter_to_acre\n",
      "        fill([x, x2, x2, x], \\\n",
      "             [0, 0, y, y], edgecolor = col, facecolor = col)\n",
      "        if density > 0:\n",
      "            x = x2\n",
      "    \n",
      "    plot([0, half_x], [half_density, half_density], 'k-')\n",
      "    \n",
      "    title('District ' + str(key) + ', half density at ' + str(half_density))\n",
      "    ylabel('people per acre')\n",
      "    xlabel('acres, total population ' + str(pop))"
     ],
     "language": "python",
     "metadata": {},
     "outputs": []
    },
    {
     "cell_type": "code",
     "collapsed": false,
     "input": [
      "def density_map(district):\n",
      "    sq_meter_to_acre = 0.000247105\n",
      "        \n",
      "    fig = figure(figsize=(15,15))\n",
      "    x = 0\n",
      "    \n",
      "    pop = 0\n",
      "    for tract in district:\n",
      "        pop += tract['raw']['properties']['POP10']\n",
      "             \n",
      "    pop_sum = 0\n",
      "    half_density = 0\n",
      "    half_x = 0\n",
      "    fr = None\n",
      "    for tract in sorted(district, key=lambda k: k['density']):\n",
      "\n",
      "        old_sum = pop_sum\n",
      "        pop_sum += tract['raw']['properties']['POP10']\n",
      "        area = tract['area']\n",
      "        density = tract['density']\n",
      "        \n",
      "        col = (0.9,0.9,0.9)\n",
      "\n",
      "        if pop_sum > pop*3/4:\n",
      "            col = (0,1,0)\n",
      "        elif pop_sum > pop/2:\n",
      "            col = (0,0,1)\n",
      "            if (old_sum < pop/2):\n",
      "                half_density = density / sq_meter_to_acre\n",
      "                half_x = x\n",
      "        elif pop_sum > 0:\n",
      "            col = (0.9,0.5,0.5)\n",
      "                \n",
      "        col2 = (col[0] * 0.6, col[1] * 0.6, col[2] * 0.6)\n",
      "                \n",
      "        if tract['geom'].geom_type == 'MultiPolygon':\n",
      "            #print 'multi polygon'\n",
      "            x,y = tract['geom'].geoms[0].exterior.xy  \n",
      "        else:\n",
      "            x,y = tract['geom'].exterior.xy     \n",
      "            \n",
      "        if (fr == None):\n",
      "            latitude = y[0]\n",
      "            fr = math.cos(latitude * math.pi / 180.0)\n",
      "            print \"latitude scale fraction\", fr\n",
      "            fig.add_subplot(111, aspect = 1.0/fr)\n",
      "        fill(x,y, edgecolor = col2, facecolor = col)\n",
      "    \n",
      "    title('District ' + str(key) + ', half density at ' + str(half_density))\n",
      "    "
     ],
     "language": "python",
     "metadata": {},
     "outputs": []
    },
    {
     "cell_type": "code",
     "collapsed": false,
     "input": [
      "density_profile(all_tracts)"
     ],
     "language": "python",
     "metadata": {},
     "outputs": []
    },
    {
     "cell_type": "code",
     "collapsed": false,
     "input": [
      "density_map(all_tracts)"
     ],
     "language": "python",
     "metadata": {},
     "outputs": []
    },
    {
     "cell_type": "code",
     "collapsed": false,
     "input": [
      "key = 1\n",
      "district = dist_tracts[key]\n",
      "density_profile(district)"
     ],
     "language": "python",
     "metadata": {},
     "outputs": []
    },
    {
     "cell_type": "code",
     "collapsed": false,
     "input": [
      "density_map(district)"
     ],
     "language": "python",
     "metadata": {},
     "outputs": []
    },
    {
     "cell_type": "code",
     "collapsed": false,
     "input": [
      "key = 2\n",
      "district = dist_tracts[key]\n",
      "density_profile(district)"
     ],
     "language": "python",
     "metadata": {},
     "outputs": []
    },
    {
     "cell_type": "code",
     "collapsed": false,
     "input": [
      "density_map(district)"
     ],
     "language": "python",
     "metadata": {},
     "outputs": []
    },
    {
     "cell_type": "code",
     "collapsed": false,
     "input": [
      "key = 3\n",
      "district = dist_tracts[key]\n",
      "density_profile(district)"
     ],
     "language": "python",
     "metadata": {},
     "outputs": []
    },
    {
     "cell_type": "code",
     "collapsed": false,
     "input": [
      "density_map(district)"
     ],
     "language": "python",
     "metadata": {},
     "outputs": []
    },
    {
     "cell_type": "code",
     "collapsed": false,
     "input": [
      "key = 4\n",
      "district = dist_tracts[key]\n",
      "density_profile(district)"
     ],
     "language": "python",
     "metadata": {},
     "outputs": []
    },
    {
     "cell_type": "code",
     "collapsed": false,
     "input": [
      "density_map(district)"
     ],
     "language": "python",
     "metadata": {},
     "outputs": []
    },
    {
     "cell_type": "code",
     "collapsed": false,
     "input": [
      "key = 5\n",
      "district = dist_tracts[key]\n",
      "density_profile(district)"
     ],
     "language": "python",
     "metadata": {},
     "outputs": []
    },
    {
     "cell_type": "code",
     "collapsed": false,
     "input": [
      "density_map(district)"
     ],
     "language": "python",
     "metadata": {},
     "outputs": []
    },
    {
     "cell_type": "code",
     "collapsed": false,
     "input": [
      "key = 6\n",
      "district = dist_tracts[key]\n",
      "density_profile(district)"
     ],
     "language": "python",
     "metadata": {},
     "outputs": []
    },
    {
     "cell_type": "code",
     "collapsed": false,
     "input": [
      "density_map(district)"
     ],
     "language": "python",
     "metadata": {},
     "outputs": []
    },
    {
     "cell_type": "code",
     "collapsed": false,
     "input": [
      "key = 7\n",
      "district = dist_tracts[key]\n",
      "density_profile(district)"
     ],
     "language": "python",
     "metadata": {},
     "outputs": []
    },
    {
     "cell_type": "code",
     "collapsed": false,
     "input": [
      "density_map(district)"
     ],
     "language": "python",
     "metadata": {},
     "outputs": []
    },
    {
     "cell_type": "code",
     "collapsed": false,
     "input": [
      "total_pop = 0\n",
      "for key in dist_tracts.keys():\n",
      "    #print key, len(dist_tracts[key])\n",
      "    pop = 0\n",
      "    for tract in dist_tracts[key]:\n",
      "        pop += tract['raw']['properties']['POP10']\n",
      "    \n",
      "    total_pop += 0\n",
      "    print key, 'num_tracts', len(dist_tracts[key]), 'population', pop \n",
      "\n",
      "print 'pop', total_pop"
     ],
     "language": "python",
     "metadata": {},
     "outputs": []
    },
    {
     "cell_type": "code",
     "collapsed": false,
     "input": [
      "86558.0/87677.0"
     ],
     "language": "python",
     "metadata": {},
     "outputs": []
    }
   ],
   "metadata": {}
  }
 ]
}
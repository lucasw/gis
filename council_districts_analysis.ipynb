{
 "metadata": {
  "name": ""
 },
 "nbformat": 3,
 "nbformat_minor": 0,
 "worksheets": [
  {
   "cells": [
    {
     "cell_type": "markdown",
     "metadata": {},
     "source": [
      "Load already generated council district boundaries, then load census data and analyze it per district"
     ]
    },
    {
     "cell_type": "code",
     "collapsed": false,
     "input": [
      "dist_file = 'data/seattle_city_council_districts/seattle_city_council_districts.shp'"
     ],
     "language": "python",
     "metadata": {},
     "outputs": []
    },
    {
     "cell_type": "code",
     "collapsed": false,
     "input": [
      "census_dir = \"../../gis/census/\"\n",
      "# WA\n",
      "census_shp = \"tabblock2010_53_pophu.shp\"\n",
      "census_file = census_dir + census_shp"
     ],
     "language": "python",
     "metadata": {},
     "outputs": []
    },
    {
     "cell_type": "code",
     "collapsed": false,
     "input": [
      "import fiona\n",
      "import shapely.geometry\n",
      "import rtree"
     ],
     "language": "python",
     "metadata": {},
     "outputs": []
    },
    {
     "cell_type": "code",
     "collapsed": false,
     "input": [
      "import pyproj"
     ],
     "language": "python",
     "metadata": {},
     "outputs": []
    },
    {
     "cell_type": "code",
     "collapsed": false,
     "input": [
      "sq_meter_to_acre = 0.000247105"
     ],
     "language": "python",
     "metadata": {},
     "outputs": []
    },
    {
     "cell_type": "code",
     "collapsed": false,
     "input": [
      "import shapely.ops\n",
      "\n",
      "# load district boundary data\n",
      "def get_boundaries(filename):\n",
      "    handle = fiona.open(filename)\n",
      "    ridx = rtree.index.Index()\n",
      "    boundaries = {}\n",
      "    polygons = []\n",
      "    for ind, area in enumerate(handle):\n",
      "        print ind, area['properties']\n",
      "        geom = shapely.geometry.shape(area['geometry'])\n",
      "        # need to make the polygons overlap just a little\n",
      "        # to make the union produce a single outer boundary\n",
      "        polygons.append(geom.buffer(0.0005))\n",
      "        #print geom\n",
      "        ind = area['properties']['id']\n",
      "        ridx.insert(ind, geom.bounds)\n",
      "        boundaries[ind] = {}\n",
      "        boundaries[ind]['geom'] = geom\n",
      "        boundaries[ind]['raw'] = area\n",
      "    \n",
      "    # get boundary of seattle from union of all districts\n",
      "    outer_boundary = shapely.ops.cascaded_union(polygons)\n",
      "    \n",
      "    return ridx, boundaries, outer_boundary"
     ],
     "language": "python",
     "metadata": {},
     "outputs": []
    },
    {
     "cell_type": "code",
     "collapsed": false,
     "input": [
      "ridx, boundaries, outer_boundary = get_boundaries(dist_file)"
     ],
     "language": "python",
     "metadata": {},
     "outputs": []
    },
    {
     "cell_type": "code",
     "collapsed": false,
     "input": [
      "def get_area_m2(border, pa):\n",
      "    \n",
      "    if border.geom_type == 'MultiPolygon':\n",
      "        area = 0\n",
      "        for geom in border.geoms:\n",
      "            area += get_area_m2(geom, pa)\n",
      "        return area\n",
      "        \n",
      "    x,y = border.exterior.xy\n",
      "    # lop off the last redundant point?\n",
      "    xp,yp =  pa(x,y) #pa(x[:-1],y[:-1])\n",
      "    cop = {\"type\": \"Polygon\", \"coordinates\": [zip(xp, yp)]}\n",
      "    bound_proj = shapely.geometry.shape(cop)\n",
      "    \n",
      "    area = bound_proj.area\n",
      "    #print pa(min(x), min(y))\n",
      "    #print pa(max(x), max(y))\n",
      "    #plot(xp, yp)\n",
      "    #print 'area square miles', area * 3.86102e-7\n",
      "    return area\n",
      "    "
     ],
     "language": "python",
     "metadata": {},
     "outputs": []
    },
    {
     "cell_type": "code",
     "collapsed": false,
     "input": [
      "x,y = outer_boundary.boundary.xy\n",
      "lon_min = min(x)\n",
      "lon_max = max(x)\n",
      "lat_min = min(y)\n",
      "lat_max = max(y)\n",
      "print lon_min, lon_max, lat_min, lat_max\n",
      "\n",
      "proj_cmd = \"+proj=aea +lat_1=\" + str(lat_min) + \" +lat_2=\" + str(lat_max) +\\\n",
      "            \" +lat_0=\" + str((lat_min + lat_max)/2) + \\\n",
      "            \" +lon_0=\" + str((lon_min + lon_max)/2) + \" +units=m\"\n",
      "print proj_cmd\n",
      "                                     \n",
      "pa = pyproj.Proj(proj_cmd)\n",
      "print pa\n",
      "\n",
      "figure(figsize=(10,10))\n",
      "# The square miles of Seattle is supposed to be 83.9, but these\n",
      "# census tracts contain a lot of water so this is bigger\n",
      "get_area_m2(outer_boundary, pa)\n",
      "\n",
      "area_total = 0\n",
      "for key in boundaries.keys():\n",
      "    #print ''\n",
      "    area = get_area_m2(boundaries[key]['geom'], pa) \n",
      "    print key, area\n",
      "    area_total += area\n",
      "    #plot(x, y)\n",
      "print area_total"
     ],
     "language": "python",
     "metadata": {},
     "outputs": []
    },
    {
     "cell_type": "code",
     "collapsed": false,
     "input": [
      "num = len(boundaries.keys())\n",
      "dist_cols = {}\n",
      "\n",
      "hsv = zeros((1,1,3))\n",
      "hsv[0,0,0] = 0.5\n",
      "hsv[0,0,1] = 0.9\n",
      "hsv[0,0,2] = 0.9\n",
      "print matplotlib.colors.hsv_to_rgb(hsv)\n",
      "\n",
      "figure(figsize=(12,6))\n",
      "for key in ( boundaries.keys()):\n",
      "    fr =  float(key)/num\n",
      "    hsv[0,0,0] = fr #random.random()\n",
      "    col = matplotlib.colors.hsv_to_rgb(hsv)[0,0,:]\n",
      "    dist_cols[key] = col\n",
      "    print key, col\n",
      "    plot([int(key), int(key)], [0, 1], color=dist_cols[key], \\\n",
      "         linewidth=35.0, ms = 25.0)"
     ],
     "language": "python",
     "metadata": {},
     "outputs": []
    },
    {
     "cell_type": "code",
     "collapsed": false,
     "input": [
      "def draw_districts(use_dist_cols = True, lw = 5.0):\n",
      "    # this will be a MultiLineString if the cascading union didn't actually\n",
      "    # get a full overlap\n",
      "    print outer_boundary.boundary.type\n",
      "    print boundaries[1]['geom'].boundary.type\n",
      "    x,y = outer_boundary.boundary.xy\n",
      "    col = (0,0,0)\n",
      "    plot(x, y, color = col, linewidth=3.0)\n",
      "    for key in boundaries.keys():\n",
      "        \n",
      "        x,y = boundaries[key]['geom'].boundary.xy # outer_boundary.boundary.xy\n",
      "        col = (0,0,0)\n",
      "        if use_dist_cols:\n",
      "            col = dist_cols[key]\n",
      "        \n",
      "        plot(x, y, color=col, linewidth=lw)\n",
      "        \n",
      "        cx = boundaries[key]['geom'].centroid.x\n",
      "        cy = boundaries[key]['geom'].centroid.y\n",
      "        \n",
      "        text(mean(cx), mean(cy), key, fontsize=40)"
     ],
     "language": "python",
     "metadata": {},
     "outputs": []
    },
    {
     "cell_type": "code",
     "collapsed": false,
     "input": [
      "figure(figsize=(15,15))\n",
      "draw_districts(True, lw=5)"
     ],
     "language": "python",
     "metadata": {},
     "outputs": []
    },
    {
     "cell_type": "code",
     "collapsed": false,
     "input": [
      "print ridx"
     ],
     "language": "python",
     "metadata": {},
     "outputs": []
    },
    {
     "cell_type": "code",
     "collapsed": false,
     "input": [
      "# load census data\n",
      "def get_tracts(filename, ridx, boundaries):\n",
      "    handle = fiona.open(filename)  \n",
      "    dist_tracts = {}\n",
      "    all_tracts = []\n",
      "    for ind, tract_raw in enumerate(handle):\n",
      "        geom = shapely.geometry.shape(tract_raw['geometry'])\n",
      "        item = {}\n",
      "        item['geom'] = geom\n",
      "        item['area'] = get_area_m2(geom, pa)\n",
      "        item['raw'] = tract_raw\n",
      "        \n",
      "        pop = item['raw']['properties']['POP10']\n",
      "        if item['area'] > 0:\n",
      "            density = pop / item['area']\n",
      "            item['density'] = density\n",
      "        else:\n",
      "            item['density'] = 0\n",
      "         \n",
      "        bounds_overlap = [n for n in ridx.intersection(geom.bounds)]\n",
      "        \n",
      "        is_in_city = False\n",
      "        for overlap_ind in bounds_overlap:\n",
      "            # TBD if area is split between multiple boundaries then \n",
      "            # make choice, or split up the geom between them\n",
      "            if boundaries[overlap_ind]['geom'].intersection(geom).area > 0:\n",
      "                if not overlap_ind in dist_tracts.keys():\n",
      "                    dist_tracts[overlap_ind] = []\n",
      "                dist_tracts[overlap_ind].append(item)\n",
      "                is_in_city = True\n",
      "                # break\n",
      "        if is_in_city:\n",
      "            all_tracts.append(item)\n",
      "\n",
      "                \n",
      "        # TBD sort the tracts by density so this doesn't have to be done repeatedly\n",
      "    return dist_tracts, all_tracts"
     ],
     "language": "python",
     "metadata": {},
     "outputs": []
    },
    {
     "cell_type": "code",
     "collapsed": false,
     "input": [
      "dist_tracts, all_tracts = get_tracts(census_file, ridx, boundaries)"
     ],
     "language": "python",
     "metadata": {},
     "outputs": []
    },
    {
     "cell_type": "code",
     "collapsed": false,
     "input": [
      "all_tracts = sorted(all_tracts, key=lambda k: k['density'])"
     ],
     "language": "python",
     "metadata": {},
     "outputs": []
    },
    {
     "cell_type": "markdown",
     "metadata": {},
     "source": [
      "## Histograms"
     ]
    },
    {
     "cell_type": "code",
     "collapsed": false,
     "input": [
      "def get_pop_and_density(tracts):\n",
      "    density = []\n",
      "    population = []\n",
      "    for tract in tracts:\n",
      "        pop = tract['raw']['properties']['POP10']\n",
      "\n",
      "    \n",
      "        if (pop > 0):\n",
      "            density.append(tract['density'] / sq_meter_to_acre)\n",
      "            population.append(pop)\n",
      "    #print len(density), len(population)\n",
      "    return density, population"
     ],
     "language": "python",
     "metadata": {},
     "outputs": []
    },
    {
     "cell_type": "code",
     "collapsed": false,
     "input": [
      "print len(all_tracts)\n",
      "\n",
      "density, population = get_pop_and_density(all_tracts)"
     ],
     "language": "python",
     "metadata": {},
     "outputs": []
    },
    {
     "cell_type": "code",
     "collapsed": false,
     "input": [
      "# histogram splits up data into equally spaced bins, but we want the bins\n",
      "# to each contain the same fraction of population - 1/N for N bins.\n",
      "\n",
      "print sum(population)\n",
      "\n",
      "bins = []\n",
      "bins.append(0) #density[0])\n",
      "\n",
      "num_bins = 7.0\n",
      "\n",
      "pop_sum = 0\n",
      "for i, p in enumerate(population):\n",
      "   \n",
      "    pop_sum += p\n",
      "    \n",
      "    if (pop_sum > sum(population) / num_bins):\n",
      "        bins.append(density[i])\n",
      "        pop_sum = 0\n",
      "   \n",
      "bins.append(density[-1])\n",
      "print num_bins, len(bins)\n",
      "print bins\n",
      "plot(density)"
     ],
     "language": "python",
     "metadata": {},
     "outputs": []
    },
    {
     "cell_type": "code",
     "collapsed": false,
     "input": [
      "#for i in range \n",
      "plot(bins[:-1], '.', ms = 10)\n",
      "plot(bins[1:], '.', ms = 10)"
     ],
     "language": "python",
     "metadata": {},
     "outputs": []
    },
    {
     "cell_type": "code",
     "collapsed": false,
     "input": [
      "hist, binsh = histogram(density, bins, weights=population)\n",
      "\n",
      "print hist\n",
      "\n",
      "bases = zeros(hist.shape)\n",
      "\n",
      "fig = figure(figsize=(12,12))\n",
      "ax = fig.add_subplot(111)\n",
      "\n",
      "for key in dist_tracts.keys():\n",
      "    densityk, populationk = get_pop_and_density(dist_tracts[key])\n",
      "    histh, binsh = histogram(densityk, bins, weights=populationk)\n",
      "    print key, histh\n",
      "    \n",
      "    for i in range(len(bins)-1):\n",
      "        y1 = bases[i]\n",
      "        y2 = bases[i] + histh[i]\n",
      "        xs = [i, i+1, i+1, i]\n",
      "        ys = [y1, y1, y2, y2]\n",
      "        fill(xs, ys, facecolor = dist_cols[key])\n",
      "        \n",
      "        if i == 0:\n",
      "            fs = 14\n",
      "            text(mean(xs), mean(ys), key, fontsize=fs)\n",
      "    #print bases\n",
      "    bases += histh\n",
      "\n",
      "binlabels = []\n",
      "for b in bins:\n",
      "    binlabels.append(str(int(b))) \n",
      "ax.set_xticklabels(binlabels)\n",
      "ylabel('population')\n",
      "xlabel('population per acre')"
     ],
     "language": "python",
     "metadata": {},
     "outputs": []
    },
    {
     "cell_type": "code",
     "collapsed": false,
     "input": [
      "\n",
      "inds = digitize([21], bins)\n",
      "print inds[0], bins[inds[0]-1 ], bins[inds[0] ]\n",
      "\n",
      "print max(dist_tracts.keys())"
     ],
     "language": "python",
     "metadata": {},
     "outputs": []
    },
    {
     "cell_type": "code",
     "collapsed": false,
     "input": [
      "density_cols = {}\n",
      "for i in range(len(bins) + 1):\n",
      "    frac = float(i) / float(len(bins) + 1)\n",
      "    hsv = zeros((1,1,3))\n",
      "    f2 = frac * 1 # (len(bins) - 1)\n",
      "    f2 -= floor(f2)\n",
      "    hsv[0,0,0] = f2 #random.random()\n",
      "    hsv[0,0,1] = 0.9\n",
      "    hsv[0,0,2] = 1.0 - frac * 0.3\n",
      "    density_cols[i] = matplotlib.colors.hsv_to_rgb(hsv)[0,0,:]\n",
      "\n",
      "print density_cols[0]"
     ],
     "language": "python",
     "metadata": {},
     "outputs": []
    },
    {
     "cell_type": "code",
     "collapsed": false,
     "input": [
      "fig = figure(figsize=(25,25))\n",
      "fr = 0.67\n",
      "fig.add_subplot(111, aspect = 1.0/fr)\n",
      "\n",
      "#y,x = outer_boundary.x\n",
      "bds = outer_boundary.bounds\n",
      "cx = bds[2] #min(outer_boundary.x)# outer_boundary.boundary.centroid.x\n",
      "cy = bds[3] #min(outer_boundary.y)#outer_boundary.boundary.centroid.y\n",
      "\n",
      "legh = []\n",
      "legt = []\n",
      "for i in range(1, len(bins)):\n",
      "    col = density_cols[i]\n",
      "    p1, = plot(cx, cy, 'o', color = col, ms = 17.0)\n",
      "    legh.append(p1)\n",
      "    legt.append(round(bins[i]))\n",
      "legend(legh, legt)\n",
      "\n",
      "for key in dist_tracts.keys():\n",
      "    print key\n",
      "    district = dist_tracts[key]\n",
      "\n",
      "    for tract in district: #sorted(district, key=lambda k: k['density']):\n",
      "\n",
      "        pop = tract['raw']['properties']['POP10']\n",
      "        #area = tract['area']\n",
      "        density = tract['density'] / sq_meter_to_acre\n",
      "        \n",
      "        col = (0.9,0.9,0.9)\n",
      "        \n",
      "        #print density\n",
      "        ind = digitize([density], bins)\n",
      "        if (pop > 0):\n",
      "            #col = dist_cols[key]\n",
      "            #frac = float(ind) / len(bins)\n",
      "            col = density_cols[int(ind)]\n",
      "            \n",
      "            #print frac\n",
      "            #col = (col[0] * (1.0 - frac), col[1], col[2], frac* 0.9 + 0.1)\n",
      "      \n",
      "        col2 = ( 0.6, 0.6, 0.6, 0.5)\n",
      "                \n",
      "        if tract['geom'].geom_type == 'MultiPolygon':\n",
      "            #print 'multi polygon'\n",
      "            x,y = tract['geom'].geoms[0].exterior.xy  \n",
      "        else:\n",
      "            x,y = tract['geom'].exterior.xy     \n",
      "            \n",
      "        fill(x,y, edgecolor = col2, facecolor = col)\n",
      "    \n",
      "    #break\n",
      "\n",
      "draw_districts(False, 2.0)\n",
      "\n"
     ],
     "language": "python",
     "metadata": {},
     "outputs": []
    },
    {
     "cell_type": "code",
     "collapsed": false,
     "input": [
      "#print density)\n",
      "#print weights.shape\n",
      "\n",
      "hist, binsh = histogram(density, 50, weights=population)\n"
     ],
     "language": "python",
     "metadata": {},
     "outputs": []
    },
    {
     "cell_type": "code",
     "collapsed": false,
     "input": [
      "print binsh.astype(int)\n",
      "print hist\n",
      "plot(binsh[1:], hist, '.')"
     ],
     "language": "python",
     "metadata": {},
     "outputs": []
    },
    {
     "cell_type": "markdown",
     "metadata": {},
     "source": [
      "## Per-district density profiles and maps"
     ]
    },
    {
     "cell_type": "code",
     "collapsed": false,
     "input": [
      "def density_profile(district):\n",
      "    sq_meter_to_acre = 0.000247105\n",
      "        \n",
      "    figure(figsize=(15,10))\n",
      "    x = 0\n",
      "    \n",
      "    pop = 0\n",
      "    for tract in district:\n",
      "        pop += tract['raw']['properties']['POP10']\n",
      "        \n",
      "        \n",
      "    pop_sum = 0\n",
      "    half_density = 0\n",
      "    half_x = 0\n",
      "    for tract in sorted(district, key=lambda k: k['density']):\n",
      "        \n",
      "        old_sum = pop_sum\n",
      "        pop_sum += tract['raw']['properties']['POP10']\n",
      "        area = tract['area']\n",
      "        density = tract['density']\n",
      "        \n",
      "        col = (1.0,0,0)\n",
      "        if pop_sum > pop*3/4:\n",
      "            col = (0,1,0)\n",
      "        elif pop_sum > pop/2:\n",
      "            col = (0,0,1)\n",
      "            if (old_sum < pop/2):\n",
      "                half_density = density / sq_meter_to_acre\n",
      "                half_x = x\n",
      "        \n",
      "        x2 = x + area * sq_meter_to_acre\n",
      "        y = density / sq_meter_to_acre\n",
      "        fill([x, x2, x2, x], \\\n",
      "             [0, 0, y, y], edgecolor = col, facecolor = col)\n",
      "        if density > 0:\n",
      "            x = x2\n",
      "    \n",
      "    plot([0, half_x], [half_density, half_density], 'k-')\n",
      "    \n",
      "    title('District ' + str(key) + ', half density at ' + str(half_density))\n",
      "    ylabel('people per acre')\n",
      "    xlabel('acres, total population ' + str(pop))"
     ],
     "language": "python",
     "metadata": {},
     "outputs": []
    },
    {
     "cell_type": "code",
     "collapsed": false,
     "input": [
      "def density_map(district):\n",
      "    sq_meter_to_acre = 0.000247105\n",
      "        \n",
      "    fig = figure(figsize=(15,15))\n",
      "    x = 0\n",
      "    \n",
      "    pop = 0\n",
      "    for tract in district:\n",
      "        pop += tract['raw']['properties']['POP10']\n",
      "             \n",
      "    pop_sum = 0\n",
      "    half_density = 0\n",
      "    half_x = 0\n",
      "    fr = None\n",
      "    for tract in sorted(district, key=lambda k: k['density']):\n",
      "\n",
      "        old_sum = pop_sum\n",
      "        pop_sum += tract['raw']['properties']['POP10']\n",
      "        area = tract['area']\n",
      "        density = tract['density']\n",
      "        \n",
      "        col = (0.9,0.9,0.9)\n",
      "\n",
      "        if pop_sum > pop*3/4:\n",
      "            col = (0,1,0)\n",
      "        elif pop_sum > pop/2:\n",
      "            col = (0,0,1)\n",
      "            if (old_sum < pop/2):\n",
      "                half_density = density / sq_meter_to_acre\n",
      "                half_x = x\n",
      "        elif pop_sum > 0:\n",
      "            col = (0.9,0.5,0.5)\n",
      "                \n",
      "        col2 = (col[0] * 0.6, col[1] * 0.6, col[2] * 0.6)\n",
      "                \n",
      "        if tract['geom'].geom_type == 'MultiPolygon':\n",
      "            #print 'multi polygon'\n",
      "            x,y = tract['geom'].geoms[0].exterior.xy  \n",
      "        else:\n",
      "            x,y = tract['geom'].exterior.xy     \n",
      "            \n",
      "        if (fr == None):\n",
      "            latitude = y[0]\n",
      "            fr = math.cos(latitude * math.pi / 180.0)\n",
      "            print \"latitude scale fraction\", fr\n",
      "            fig.add_subplot(111, aspect = 1.0/fr)\n",
      "        fill(x,y, edgecolor = col2, facecolor = col)\n",
      "    \n",
      "    title('District ' + str(key) + ', half density at ' + str(half_density))\n",
      "    "
     ],
     "language": "python",
     "metadata": {},
     "outputs": []
    },
    {
     "cell_type": "code",
     "collapsed": false,
     "input": [
      "if False:\n",
      "    density_profile(all_tracts)"
     ],
     "language": "python",
     "metadata": {},
     "outputs": []
    },
    {
     "cell_type": "code",
     "collapsed": false,
     "input": [
      "if False:\n",
      "    density_map(all_tracts)"
     ],
     "language": "python",
     "metadata": {},
     "outputs": []
    },
    {
     "cell_type": "code",
     "collapsed": false,
     "input": [
      "key = 1\n",
      "district = dist_tracts[key]\n",
      "density_profile(district)"
     ],
     "language": "python",
     "metadata": {},
     "outputs": []
    },
    {
     "cell_type": "code",
     "collapsed": false,
     "input": [
      "density_map(district)"
     ],
     "language": "python",
     "metadata": {},
     "outputs": []
    },
    {
     "cell_type": "code",
     "collapsed": false,
     "input": [
      "key = 2\n",
      "district = dist_tracts[key]\n",
      "density_profile(district)"
     ],
     "language": "python",
     "metadata": {},
     "outputs": []
    },
    {
     "cell_type": "code",
     "collapsed": false,
     "input": [
      "density_map(district)"
     ],
     "language": "python",
     "metadata": {},
     "outputs": []
    },
    {
     "cell_type": "code",
     "collapsed": false,
     "input": [
      "key = 3\n",
      "district = dist_tracts[key]\n",
      "density_profile(district)"
     ],
     "language": "python",
     "metadata": {},
     "outputs": []
    },
    {
     "cell_type": "code",
     "collapsed": false,
     "input": [
      "density_map(district)"
     ],
     "language": "python",
     "metadata": {},
     "outputs": []
    },
    {
     "cell_type": "code",
     "collapsed": false,
     "input": [
      "key = 4\n",
      "district = dist_tracts[key]\n",
      "density_profile(district)"
     ],
     "language": "python",
     "metadata": {},
     "outputs": []
    },
    {
     "cell_type": "code",
     "collapsed": false,
     "input": [
      "density_map(district)"
     ],
     "language": "python",
     "metadata": {},
     "outputs": []
    },
    {
     "cell_type": "code",
     "collapsed": false,
     "input": [
      "key = 5\n",
      "district = dist_tracts[key]\n",
      "density_profile(district)"
     ],
     "language": "python",
     "metadata": {},
     "outputs": []
    },
    {
     "cell_type": "code",
     "collapsed": false,
     "input": [
      "density_map(district)"
     ],
     "language": "python",
     "metadata": {},
     "outputs": []
    },
    {
     "cell_type": "code",
     "collapsed": false,
     "input": [
      "key = 6\n",
      "district = dist_tracts[key]\n",
      "density_profile(district)"
     ],
     "language": "python",
     "metadata": {},
     "outputs": []
    },
    {
     "cell_type": "code",
     "collapsed": false,
     "input": [
      "density_map(district)"
     ],
     "language": "python",
     "metadata": {},
     "outputs": []
    },
    {
     "cell_type": "code",
     "collapsed": false,
     "input": [
      "key = 7\n",
      "district = dist_tracts[key]\n",
      "density_profile(district)"
     ],
     "language": "python",
     "metadata": {},
     "outputs": []
    },
    {
     "cell_type": "code",
     "collapsed": false,
     "input": [
      "density_map(district)"
     ],
     "language": "python",
     "metadata": {},
     "outputs": []
    },
    {
     "cell_type": "code",
     "collapsed": false,
     "input": [
      "total_pop = 0\n",
      "for key in dist_tracts.keys():\n",
      "    #print key, len(dist_tracts[key])\n",
      "    pop = 0\n",
      "    for tract in dist_tracts[key]:\n",
      "        pop += tract['raw']['properties']['POP10']\n",
      "    \n",
      "    total_pop += 0\n",
      "    print key, 'num_tracts', len(dist_tracts[key]), 'population', pop \n",
      "\n",
      "print 'pop', total_pop"
     ],
     "language": "python",
     "metadata": {},
     "outputs": []
    },
    {
     "cell_type": "code",
     "collapsed": false,
     "input": [
      "86558.0/87677.0"
     ],
     "language": "python",
     "metadata": {},
     "outputs": []
    },
    {
     "cell_type": "code",
     "collapsed": false,
     "input": [
      "# output data to shapefile\n",
      "handle = fiona.open(census_file)\n",
      "\n",
      "print handle.driver\n",
      "print handle.crs\n",
      "print handle.schema\n",
      "\n",
      "schema = handle.schema.copy()\n",
      "schema['properties']['area'] = 'float'\n",
      "schema['properties']['density'] = 'float'\n",
      "schema['properties']['district'] = 'int'\n",
      "\n",
      "for key in dist_tracts.keys():\n",
      "    print key\n",
      "    district = dist_tracts[key]\n",
      "\n",
      "    for tract in district: #sorted(district, key=lambda k: k['density']):\n",
      "\n",
      "        # TBD do this in get_tract\n",
      "        tract['raw']['properties']['district'] = int(key)\n",
      "        tract['raw']['properties']['density'] = tract['density'] / sq_meter_to_acre\n",
      "        tract['raw']['properties']['area'] = tract['area'] * sq_meter_to_acre\n",
      "        \n",
      "with fiona.open(\n",
      "                'output/seattle_census_tracts.shp', 'w',\n",
      "                crs=handle.crs,\n",
      "                driver=handle.driver,\n",
      "                schema=schema) as sink:\n",
      "    \n",
      "    for key in dist_tracts.keys():\n",
      "        print key\n",
      "        district = dist_tracts[key]\n",
      "\n",
      "        for tract in district:\n",
      "            try:\n",
      "                sink.write(tract['raw'])\n",
      "            except Exception, e:\n",
      "                logging.exception(\"Error processing feature %s:\", tract['raw']['id'])"
     ],
     "language": "python",
     "metadata": {},
     "outputs": []
    }
   ],
   "metadata": {}
  }
 ]
}
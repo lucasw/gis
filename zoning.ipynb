{
 "metadata": {
  "name": ""
 },
 "nbformat": 3,
 "nbformat_minor": 0,
 "worksheets": [
  {
   "cells": [
    {
     "cell_type": "code",
     "collapsed": false,
     "input": [
      "zone_file = \"data/seattle_zoning/WGS84/City of Seattle Zoning.shp\""
     ],
     "language": "python",
     "metadata": {},
     "outputs": []
    },
    {
     "cell_type": "code",
     "collapsed": false,
     "input": [
      "import util2\n",
      "\n",
      "reload(util2)\n",
      "\n",
      "print util2.sq_meter_to_acre\n"
     ],
     "language": "python",
     "metadata": {},
     "outputs": []
    },
    {
     "cell_type": "code",
     "collapsed": false,
     "input": [
      "ridx, boundaries, outer_boundary = util2.get_boundaries(zone_file)"
     ],
     "language": "python",
     "metadata": {},
     "outputs": []
    },
    {
     "cell_type": "code",
     "collapsed": false,
     "input": [
      "def col_legend(cols):\n",
      "    legh = []\n",
      "    legt = []\n",
      "    for zone in sorted(cols.keys()):\n",
      "        if zone == None:\n",
      "            continue\n",
      "        artist = plt.Line2D((0,0),(0,0), color=cols[zone], linewidth=20.0) #, linestyle='')\n",
      "        legh.append(artist)\n",
      "        legt.append(zone)\n",
      "\n",
      "    legend(legh, legt, prop={'size':27})"
     ],
     "language": "python",
     "metadata": {},
     "outputs": []
    },
    {
     "cell_type": "code",
     "collapsed": false,
     "input": [
      "from descartes.patch import PolygonPatch\n",
      "\n",
      "def draw_boundary(bnd, lw, col, key=''):\n",
      "    x,y = bnd.xy # outer_boundary.boundary.xy\n",
      "        #if use_dist_cols:\n",
      "        #    col = dist_cols[key]     \n",
      "    p1, = plot(x, y, color = col, linewidth=lw) #color=col,\n",
      "    \n",
      "    if key != '':\n",
      "        cx = bnd.centroid.x\n",
      "        cy = bnd.centroid.y\n",
      "        \n",
      "        text(mean(cx), mean(cy), key, fontsize=40) \n",
      "    \n",
      "    return p1\n",
      "        \n",
      "def draw_shape(bnd, lw, col, key=''):\n",
      "    p1 = None\n",
      "    if bnd.geom_type == 'MultiLineString':\n",
      "        for gm in bnd.geoms:\n",
      "            p1 = draw_boundary(gm, lw, col)\n",
      "    else:\n",
      "        #print bnd.geom_type\n",
      "        p1 = draw_boundary(bnd, lw, col)\n",
      "    \n",
      "    return p1\n",
      "\n",
      "\n",
      "def draw_boundaries(ax, boundaries, outer_boundary, \\\n",
      "                    cols = None, \\\n",
      "                    use_dist_cols = True, \\\n",
      "                    lw = 3.0):\n",
      "\n",
      "    # this will be a MultiLineString if the cascading union didn't actually\n",
      "    # get a full overlap\n",
      "    #print outer_boundary.boundary.type\n",
      "    #print boundaries[1]['geom'].boundary.type\n",
      "    # TBD many of the boundaries have holes, need to be able\n",
      "    # to draw those\n",
      "    x,y = outer_boundary.boundary.xy\n",
      "    col = (0,0,0)\n",
      "    \n",
      "    #plot(x, y, color = col, linewidth=3.0)\n",
      "    for key in boundaries.keys(): #[1:100]:\n",
      "        \n",
      "        poly = boundaries[key]['geom'] #.boundary\n",
      "        zone = boundaries[key]['raw']['properties']['ZONELUT']\n",
      "        \n",
      "        if zone == None:\n",
      "            continue\n",
      "        #print type(bnd)\n",
      "        if cols != None and zone in cols.keys():\n",
      "            col = cols[zone]\n",
      "        #print zone, col\n",
      "        #draw_shape(bnd, lw, col)\n",
      "        \n",
      "\n",
      "        patch = PolygonPatch( poly, facecolor = col, edgecolor=(0,0,0,0.1) )\n",
      "        ax.add_patch(patch)\n",
      "        \n",
      "        p1 = draw_shape(poly.exterior, lw, (0,0,0,0.3), zone)\n",
      "    \n",
      "    col_legend()\n"
     ],
     "language": "python",
     "metadata": {},
     "outputs": []
    },
    {
     "cell_type": "code",
     "collapsed": false,
     "input": [
      "import random\n",
      "# make a list of all the zone types\n",
      "zone_types = {}\n",
      "for key in boundaries.keys():\n",
      "    zone = boundaries[key]['raw']['properties']['ZONELUT']\n",
      "    if zone == None:\n",
      "        print 'blank zone', key\n",
      "        #continue\n",
      "    if zone not in zone_types:\n",
      "        zone_types[zone] = {}\n",
      "        zone_types[zone]['num'] = 0\n",
      "\n",
      "    zone_types[zone]['num'] += 1\n",
      "    \n",
      "zone_cols = {}\n",
      "for i, key in enumerate(sorted(zone_types.keys())):\n",
      "        \n",
      "    fr = float(i) / len(zone_types.keys()) \n",
      "    hsv = zeros((1,1,3))\n",
      "    hsv[0,0,0] = fr * 0.86 #random.random() * 0.5 + fr * 0.5\n",
      "    hsv[0,0,1] = 0.9 #0.5 + random.random() *0.5\n",
      "    hsv[0,0,2] = 0.9 # 0.5 + random.random() *0.5\n",
      "    col_arr = matplotlib.colors.hsv_to_rgb(hsv)\n",
      "    col = (col_arr[0,0,0], col_arr[0,0,1], col_arr[0,0,2])\n",
      "    zone_cols[key] = col\n",
      "    print key, zone_types[key]['num'] #, zone_cols[key]\n",
      "    \n",
      "\n",
      "\n",
      "zone_cols[None] = (1,1,1,0.5)"
     ],
     "language": "python",
     "metadata": {},
     "outputs": [
      {
       "ename": "NameError",
       "evalue": "name 'boundaries' is not defined",
       "output_type": "pyerr",
       "traceback": [
        "\u001b[0;31m---------------------------------------------------------------------------\u001b[0m\n\u001b[0;31mNameError\u001b[0m                                 Traceback (most recent call last)",
        "\u001b[0;32m<ipython-input-1-8b992a05dc3b>\u001b[0m in \u001b[0;36m<module>\u001b[0;34m()\u001b[0m\n\u001b[1;32m      2\u001b[0m \u001b[0;31m# make a list of all the zone types\u001b[0m\u001b[0;34m\u001b[0m\u001b[0;34m\u001b[0m\u001b[0m\n\u001b[1;32m      3\u001b[0m \u001b[0mzone_types\u001b[0m \u001b[0;34m=\u001b[0m \u001b[0;34m{\u001b[0m\u001b[0;34m}\u001b[0m\u001b[0;34m\u001b[0m\u001b[0m\n\u001b[0;32m----> 4\u001b[0;31m \u001b[0;32mfor\u001b[0m \u001b[0mkey\u001b[0m \u001b[0;32min\u001b[0m \u001b[0mboundaries\u001b[0m\u001b[0;34m.\u001b[0m\u001b[0mkeys\u001b[0m\u001b[0;34m(\u001b[0m\u001b[0;34m)\u001b[0m\u001b[0;34m:\u001b[0m\u001b[0;34m\u001b[0m\u001b[0m\n\u001b[0m\u001b[1;32m      5\u001b[0m     \u001b[0mzone\u001b[0m \u001b[0;34m=\u001b[0m \u001b[0mboundaries\u001b[0m\u001b[0;34m[\u001b[0m\u001b[0mkey\u001b[0m\u001b[0;34m]\u001b[0m\u001b[0;34m[\u001b[0m\u001b[0;34m'raw'\u001b[0m\u001b[0;34m]\u001b[0m\u001b[0;34m[\u001b[0m\u001b[0;34m'properties'\u001b[0m\u001b[0;34m]\u001b[0m\u001b[0;34m[\u001b[0m\u001b[0;34m'ZONELUT'\u001b[0m\u001b[0;34m]\u001b[0m\u001b[0;34m\u001b[0m\u001b[0m\n\u001b[1;32m      6\u001b[0m     \u001b[0;32mif\u001b[0m \u001b[0mzone\u001b[0m \u001b[0;34m==\u001b[0m \u001b[0mNone\u001b[0m\u001b[0;34m:\u001b[0m\u001b[0;34m\u001b[0m\u001b[0m\n",
        "\u001b[0;31mNameError\u001b[0m: name 'boundaries' is not defined"
       ]
      }
     ],
     "prompt_number": 1
    },
    {
     "cell_type": "code",
     "collapsed": false,
     "input": [
      "col_legend(zone_cols)\n",
      "    "
     ],
     "language": "python",
     "metadata": {},
     "outputs": []
    },
    {
     "cell_type": "code",
     "collapsed": false,
     "input": [
      "cmap = cm.get_cmap('Paired')\n",
      "new_cols = cmap(arange(256) )\n",
      "#print new_cols\n",
      "\n",
      "for i, key in enumerate(sorted(zone_types.keys())):\n",
      "    ind = i * 256 / len(zone_types.keys())\n",
      "    ind %= len(new_cols)\n",
      "    zone_cols[key] = new_cols[ ind ]\n",
      "    \n",
      "col_legend(zone_cols)\n"
     ],
     "language": "python",
     "metadata": {},
     "outputs": []
    },
    {
     "cell_type": "code",
     "collapsed": false,
     "input": [
      "fr = 1.0/0.67\n",
      "fig = figure(figsize=(40,40 * fr))\n",
      "ax = fig.add_subplot(111,  aspect = fr)\n",
      "\n",
      "draw_boundaries(ax, boundaries, outer_boundary, cols=zone_cols, lw=0.3)\n",
      "#plot(1,1)"
     ],
     "language": "python",
     "metadata": {},
     "outputs": []
    },
    {
     "cell_type": "code",
     "collapsed": false,
     "input": [],
     "language": "python",
     "metadata": {},
     "outputs": []
    }
   ],
   "metadata": {}
  }
 ]
}
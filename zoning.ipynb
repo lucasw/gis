{
 "metadata": {
  "name": ""
 },
 "nbformat": 3,
 "nbformat_minor": 0,
 "worksheets": [
  {
   "cells": [
    {
     "cell_type": "code",
     "collapsed": false,
     "input": [
      "zone_file = \"data/seattle_zoning/WGS84/City of Seattle Zoning.shp\""
     ],
     "language": "python",
     "metadata": {},
     "outputs": []
    },
    {
     "cell_type": "code",
     "collapsed": false,
     "input": [
      "import util2\n",
      "\n",
      "reload(util2)\n",
      "\n",
      "print util2.sq_meter_to_acre\n"
     ],
     "language": "python",
     "metadata": {},
     "outputs": []
    },
    {
     "cell_type": "code",
     "collapsed": false,
     "input": [
      "ridx, boundaries, outer_boundary = util2.get_boundaries(zone_file)"
     ],
     "language": "python",
     "metadata": {},
     "outputs": []
    },
    {
     "cell_type": "code",
     "collapsed": false,
     "input": [
      "def draw_boundary(bnd, lw, col, key=''):\n",
      "    x,y = bnd.xy # outer_boundary.boundary.xy\n",
      "        #if use_dist_cols:\n",
      "        #    col = dist_cols[key]     \n",
      "    plot(x, y, color = col, linewidth=lw) #color=col,\n",
      "    \n",
      "    if key != '':\n",
      "        cx = bnd.centroid.x\n",
      "        cy = bnd.centroid.y\n",
      "        \n",
      "        text(mean(cx), mean(cy), key, fontsize=40) \n",
      "\n",
      "def draw_boundaries(boundaries, outer_boundary, \\\n",
      "                    cols = None, \\\n",
      "                    use_dist_cols = True, \\\n",
      "                    lw = 5.0):\n",
      "    # this will be a MultiLineString if the cascading union didn't actually\n",
      "    # get a full overlap\n",
      "    #print outer_boundary.boundary.type\n",
      "    print boundaries[1]['geom'].boundary.type\n",
      "    # TBD many of the boundaries have holes, need to be able\n",
      "    # to draw those\n",
      "    x,y = outer_boundary.boundary.xy\n",
      "    col = (0,0,0)\n",
      "    #plot(x, y, color = col, linewidth=3.0)\n",
      "    for key in boundaries.keys():\n",
      "        \n",
      "        bnd = boundaries[key]['geom'].boundary\n",
      "        zone = boundaries[key]['raw']['properties']['ZONELUT']\n",
      "        \n",
      "        #print type(bnd)\n",
      "        if cols != None and zone in cols.keys():\n",
      "            col = cols[zone]\n",
      "        #print zone, col\n",
      "        \n",
      "        if bnd.geom_type == 'MultiLineString':\n",
      "            for gm in bnd.geoms:\n",
      "                draw_boundary(gm, lw, col)\n",
      "        else:\n",
      "            draw_boundary(bnd, lw, col)\n",
      "            \n",
      "        break"
     ],
     "language": "python",
     "metadata": {},
     "outputs": []
    },
    {
     "cell_type": "code",
     "collapsed": false,
     "input": [
      "# make a list of all the zone types\n",
      "zone_types = {}\n",
      "for key in boundaries.keys():\n",
      "    zone = boundaries[key]['raw']['properties']['ZONELUT']\n",
      "    if zone not in zone_types:\n",
      "        zone_types[zone] = {}\n",
      "        zone_types[zone]['num'] = 0\n",
      "\n",
      "    zone_types[zone]['num'] += 1\n",
      "    \n",
      "zone_cols = {}\n",
      "for i, key in enumerate(zone_types.keys()):\n",
      "        \n",
      "    fr = float(i) / len(zone_types.keys()) \n",
      "    hsv = zeros((1,1,3))\n",
      "    hsv[0,0,0] = fr\n",
      "    hsv[0,0,1] = 0.9\n",
      "    hsv[0,0,2] = 0.9\n",
      "    col = matplotlib.colors.hsv_to_rgb(hsv)\n",
      "    zone_cols[key] = col\n",
      "    print key, zone_types[key]['num'], zone_cols[key]\n",
      "    "
     ],
     "language": "python",
     "metadata": {},
     "outputs": []
    },
    {
     "cell_type": "code",
     "collapsed": false,
     "input": [
      "figure(figsize=(13,13))\n",
      "draw_boundaries(boundaries, outer_boundary, cols=zone_cols, lw=2.0)\n",
      "#plot(1,1)"
     ],
     "language": "python",
     "metadata": {},
     "outputs": []
    },
    {
     "cell_type": "code",
     "collapsed": false,
     "input": [
      "plot(1,1)"
     ],
     "language": "python",
     "metadata": {},
     "outputs": []
    }
   ],
   "metadata": {}
  }
 ]
}
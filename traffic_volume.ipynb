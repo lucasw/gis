{
 "metadata": {
  "name": ""
 },
 "nbformat": 3,
 "nbformat_minor": 0,
 "worksheets": [
  {
   "cells": [
    {
     "cell_type": "code",
     "collapsed": false,
     "input": [
      "filename = \"data/traffic_volume/TrafficVol_ 05-Present.csv\""
     ],
     "language": "python",
     "metadata": {},
     "outputs": []
    },
    {
     "cell_type": "code",
     "collapsed": false,
     "input": [
      "import csv\n",
      "\n",
      "with open(filename, 'rb') as csvfile:\n",
      "    data = csv.reader(csvfile, delimiter=',') #, quotechar='|')\n",
      "    compkey_ind = -1\n",
      "    startdate_ind = -1\n",
      "    awdt_ind = -1\n",
      "    \n",
      "    for j, row in enumerate(data):\n",
      "\n",
      "        if j == 0:\n",
      "            for i in range(len(row)):\n",
      "                print row[i]\n",
      "                if row[i] == 'COMPKEY':\n",
      "                    compkey_ind = i\n",
      "                if row[i] == 'START DATE':\n",
      "                    startdate_ind = i\n",
      "                if row[i] == 'AWDT':\n",
      "                    awdt_ind = i\n",
      "                    \n",
      "        else:\n",
      "            break\n",
      "        #if not district in votes:\n",
      "        #    votes[district] = {}\n",
      "        #votes[district][vote_type] = num\n",
      "\n",
      "    print 'compkey ind', compkey_ind\n",
      "    print 'startdate ind', startdate_ind\n",
      "    print 'awdt ind', awdt_ind"
     ],
     "language": "python",
     "metadata": {},
     "outputs": []
    }
   ],
   "metadata": {}
  }
 ]
}
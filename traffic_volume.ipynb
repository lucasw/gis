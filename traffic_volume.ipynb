{
 "metadata": {
  "name": ""
 },
 "nbformat": 3,
 "nbformat_minor": 0,
 "worksheets": [
  {
   "cells": [
    {
     "cell_type": "code",
     "collapsed": false,
     "input": [
      "# traffic volume\n",
      "filename = \"data/traffic_volume/TrafficVol_ 05-Present.csv\"\n",
      "\n",
      "# street network\n",
      "folder = \"data/street_network_database/WGS84/\"\n",
      "shp = \"Street Network Database.shp\"\n",
      "input_filename = folder + shp\n",
      "\n",
      "if True:\n",
      "    xlim1 = -122.5\n",
      "    xlim2 = -122.2\n",
      "    ylim1 = 47.6\n",
      "    ylim2 = 47.63\n",
      "    \n",
      "limits = (xlim1, ylim1, xlim2, ylim2)"
     ],
     "language": "python",
     "metadata": {},
     "outputs": []
    },
    {
     "cell_type": "code",
     "collapsed": false,
     "input": [
      "import calendar\n",
      "#http://stackoverflow.com/questions/3418050/month-name-to-month-number-and-vice-versa-in-python\n",
      "month_to_int = {v.lower(): k for k,v in enumerate(calendar.month_abbr)}\n",
      "#print months\n",
      "#months = {}\n",
      "#for k,v in enumerate(calendar.month_abbr):\n",
      "#    months[v.lower()] = k\n",
      "#    print k\n",
      "\n",
      "print month_to_int"
     ],
     "language": "python",
     "metadata": {},
     "outputs": []
    },
    {
     "cell_type": "code",
     "collapsed": false,
     "input": [
      "def date_to_num(split_date):\n",
      "    day = split_date[0]\n",
      "    month = split_date[1]\n",
      "    year = split_date[2]\n",
      "    month_ind = month_to_int[month.lower()]\n",
      "    date_num = float(year) + month_ind / 100.0 + float(day) / 10000.0\n",
      "    return date_num"
     ],
     "language": "python",
     "metadata": {},
     "outputs": []
    },
    {
     "cell_type": "code",
     "collapsed": false,
     "input": [
      "import csv\n",
      "\n",
      "volumes = {}\n",
      "with open(filename, 'rb') as csvfile:\n",
      "    data = csv.reader(csvfile, delimiter=',') #, quotechar='|')\n",
      "    compkey_ind = -1\n",
      "    startdate_ind = -1\n",
      "    awdt_ind = -1\n",
      "    dirflow_ind = -1\n",
      "    \n",
      "    for j, row in enumerate(data):\n",
      "\n",
      "        if j == 0:\n",
      "            #print row\n",
      "            for i in range(len(row)):\n",
      "                if row[i] == '':\n",
      "                    continue\n",
      "                #print i, row[i]\n",
      "                if row[i] == 'COMPKEY':\n",
      "                    compkey_ind = i\n",
      "                if row[i] == 'DIR\\nFLOW':\n",
      "                    dirflow_ind = i\n",
      "                if row[i] == 'START DATE':\n",
      "                    startdate_ind = i\n",
      "                if row[i] == 'AWDT':\n",
      "                    awdt_ind = i\n",
      "                      \n",
      "        else:\n",
      "            if (j > 100):\n",
      "                break\n",
      "            compkey = int(row[compkey_ind])\n",
      "            dirflow = row[dirflow_ind]\n",
      "            date = row[startdate_ind]\n",
      "            awdt = float(row[awdt_ind].replace(',',''))\n",
      "            \n",
      "            split_date = date.split(\"-\")\n",
      "            if len(split_date) != 3:\n",
      "                print 'bad split date', split_date\n",
      "                continue\n",
      "            \n",
      "            date_num = date_to_num(split_date)\n",
      "            \n",
      "            if not volumes.has_key(compkey):\n",
      "                volumes[compkey] = []\n",
      "            volumes[compkey].append((date_num, dirflow, awdt))\n",
      "            #print compkey, date_num, dirflow, awdt\n",
      "            \n",
      "        #if not district in votes:\n",
      "        #    votes[district] = {}\n",
      "        #votes[district][vote_type] = num\n",
      "\n",
      "    print 'compkey ind', compkey_ind\n",
      "    print 'dirflow ind', dirflow_ind\n",
      "    print 'startdate ind', startdate_ind\n",
      "    print 'awdt ind', awdt_ind\n",
      "    \n",
      "    for i in volumes.keys():\n",
      "        print i, volumes[i]"
     ],
     "language": "python",
     "metadata": {},
     "outputs": []
    },
    {
     "cell_type": "code",
     "collapsed": false,
     "input": [
      "import util\n",
      "\n",
      "#reload(util)\n",
      "\n",
      "graph = {}\n",
      "graph, streets, streets_compkey, ds = util.load_streets(input_filename, limits)\n"
     ],
     "language": "python",
     "metadata": {},
     "outputs": []
    },
    {
     "cell_type": "code",
     "collapsed": false,
     "input": [],
     "language": "python",
     "metadata": {},
     "outputs": []
    }
   ],
   "metadata": {}
  }
 ]
}
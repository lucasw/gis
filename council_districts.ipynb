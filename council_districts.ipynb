{
 "metadata": {
  "name": ""
 },
 "nbformat": 3,
 "nbformat_minor": 0,
 "worksheets": [
  {
   "cells": [
    {
     "cell_type": "markdown",
     "metadata": {},
     "source": [
      "# Seattle Council Districts"
     ]
    },
    {
     "cell_type": "code",
     "collapsed": false,
     "input": [
      "import sys\n",
      "import ogr\n",
      "#import pygame\n",
      "import time\n",
      "import math\n",
      "\n",
      "import util"
     ],
     "language": "python",
     "metadata": {},
     "outputs": []
    },
    {
     "cell_type": "markdown",
     "metadata": {},
     "source": [
      "http://clerk.seattle.gov/~public/charter/charter.htm#articleIV has census tracts and census tracts and block numbers where the entire set of blocks isn't part of the district."
     ]
    },
    {
     "cell_type": "code",
     "collapsed": false,
     "input": [
      "First district. Census Tracts 96, 97.01, 97.02, 98, 99, 105, 106, 107.01, 107.02, 108, 112, 113, 114.01, 114.02, 115, 116, 120, 121, Blocks 4001 - 3, and 5008, Tract 264, and Blocks 1000, 1002 - 3, 1009, and 5008, Tract 265. Description: From the southwest boundary of city at the extension of Seola Beach Dr SW into Puget Sound, north and east along the west boundary of city in Puget Sound and into Elliott Bay to the mouth of the E. Duwamish Waterway, south along the E. Duwamish and Duwamish Waterways to the south boundary of city, then west along the south boundary of city to origin.\n",
      "\n",
      "Second district. Census Tracts 91, 93, 100.01, 100.02, 101, 102, 103, 104.01, 104.02, 109, 110.01, 111.02, 117, 118, 119, Block Group 1 of Tract 92, Block Groups 1 and 3 - 5 of Tract 94, Block Groups 3 and 4, Tract 95, and Blocks 1006, 1008, 1023, 1026 - 28, 1031 and 1032 of Tract 260.01. Description: From the intersection of S Jackson St and Elliott Bay, east along south boundaries of the Seventh and Third districts as described below to the intersection of the extension of the north boundary of Colman Park (S Holgate St), then south along east boundary of city in Lake Wash- ington to the southeast corner of the city at the extension of S Ryan St and Lake Washington, then west along the south boundary of city to origin at the intersection of the south city boundary and the Duwamish waterway, then north on Duwamish Waterway and E. Duwamish Waterways along east bound- ary of First district to origin at extension of S Jackson St.\n",
      "\n",
      "Third district. Census Tracts 62, 63, 64, 65, 74.01, 74.02, 75, 76, 77, 78, 79, 84, 85, 86, 87, 88, 89, 90, Block Groups 1 and 2 of Tract 61, Blocks 1000 - 1023, 1029, 1031 - 1032, and 1035 - 1045 of Tract 66, Block Group 1 of Tract 83, Block Group 2 of Tract 94, and Block Groups 1 and 2 of Tract 95. Description: From the intersection of Westlake Ave and Valley St, north through Waterway N 3 into Lake Union, north to the extension of vacated E Galer St into Lake Union then follow vacated E Galer St and E Galer St to Interstate 5, north on Interstate 5 to Lake Union, east to Lake Washington, then south along the east boundary of city in Lake Washington to the north boundary of Colman Park (S Holgate St), west on said boundary to Lakeside Ave So, then south to Lake Washington Blvd So, then south to Lake Park Dr S, then south to S McClellan St, then west to 33rd Ave S, then north to S Bay- view St, then west to Rainier Ave S, then north to 23rd Ave S, then north to S Holgate St, then west to 18th Ave S, then north on 18th Ave S and ex- tension to Interstate 90, then west to 12th Ave S, then north to Yesler Way, then west to 5th Ave, then follow east boundary of Seventh district, desc- ribed below, to origin at intersection of Westlake Ave and Valley St.\n",
      "\n",
      "Fourth district. Census Tracts 24, 25, 26, 38, 39, 40, 41, 42, 43.01, 43.02, 44, 50, 51, 52, 53.01, 53.02, 54, Block Group 4 of Tract 22, Block Group 1 and Blocks 2001 - 2008, 2024 - 2027 of Tract 27, Blocks 1000 - 1033, and 1045 - 1049 of Tract 36, Block Group 1 of Tract 45, Block Groups 3 and 4 of Tract 61, and Block Group 2 and Blocks 1024 - 1028, 1030, and 1033 - 1034 of Block 66. Description: From the intersection of N 85th St and Int- erstate 5, follow south boundary of the Fifth district described below to Lake Washington, then south along east boundary of city to Union Bay, west through Union Bay and the Lake Washington Ship Canal to Portage Bay to Int- erstate 5, then south to E Galer St, then west on E Galer St and vacated E Galer St into Lake Union, then north and west in Lake Union to the extens- ion of Aurora Ave N (Troll Ave) into the Lake Washington Ship Canal, then north to origin along the east boundary of the Sixth district as described below.\n",
      "\n",
      "Fifth district. Census Tracts 1, 2, 3, 4.01, 4.02, 5, 6, 7, 8, 9, 10, 11, 12, 13, 18, 19, 20, 21, Block Groups 1 and 2, and Blocks 4000 - 4004 and 4008 of Tract 14, Block Groups 2 and 3 of Tract 17.01, and Block Groups 1 - 3 of Tract 22. Description: From the north city limits at Puget Sound (extension of NW 145th St) east along north boundary of city to Lake Wash- ington, then south along east city limits (Lake Washington) to north bound- ary of Sandpoint Country Club, west to Sandpoint Way NE, then northwest to Inverness Dr NE, then southwesterly to street terminus at north boundary of Sandpoint Country Club, then west to northeast corner of Sandpoint Coun- try Club, then northwest across Inverness Ravine Park to the east end of NE 87th St, then southwest to 43rd Ave NE, then south to NE 85th St, then west to 28th Ave NE, then south to NE 83rd St, then west to Ravenna Ave NE, then north to NE 85th St, then west to 14th Ave NE, then south to NE 82nd St, then west to Roosevelt Way Northeast, then north to Northeast 85th St, then west on Northeast and North 85th St to Fremont Ave N, then north to North 87th St, then west to Greenwood Ave N, then north to N 105th St, then west on N and NW 105th St to 14th Ave NW, then north to NW Woodbine Way, then west to NW Norcross Way, then northeast to south boundary of Carkeek Park, then west to Puget Sound, then north on west boundary of city to origin.\n",
      "\n",
      "Sixth district. Census Tracts 15, 16, 17.02, 28, 29, 30, 31, 32, 33, 34, 35, 46, 47, 48, 49, Block Group 3 and Blocks 4005 - 7 and 4009 - 21 of Tract 14, Block Group 1 of Tract 17, Block Groups 3 and 4 and Blocks 2009 - 23 and 2028 - 31 of Tract 27, Block Groups 2 - 4 and Blocks 1034 - 1044 of Tract 36, and Block Group 2 of Tract 45. Description: From the intersection of south boundary of Carkeek Park with Puget Sound, follow the south boundary of Fifth district described above to the intersection of N 85th St and Interstate 5, then south on Interstate 5 to NE 50th St, then west to Aurora Ave N, then south on Aurora Ave N. to its on ground extension into Lake Washington Ship Canal (Troll Ave), then west on Lake Washington Ship Canal through Salmon Bay to Shilshole Bay, then north in Puget Sound to origin.\n",
      "\n",
      "Seventh district. Census Tracts 56, 57, 58.01, 58.02, 59, 60, 67, 68, 69, 70, 71, 72, 73, 80.01, 80.02, 81, 82, Block Group 2 of Tract 83, and Block Group 2 of Tract 92. "
     ],
     "language": "python",
     "metadata": {},
     "outputs": []
    }
   ],
   "metadata": {}
  }
 ]
}
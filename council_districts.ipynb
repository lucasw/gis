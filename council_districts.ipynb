{
 "metadata": {
  "name": ""
 },
 "nbformat": 3,
 "nbformat_minor": 0,
 "worksheets": [
  {
   "cells": [
    {
     "cell_type": "markdown",
     "metadata": {},
     "source": [
      "# Seattle Council Districts"
     ]
    },
    {
     "cell_type": "code",
     "collapsed": false,
     "input": [
      "import sys\n",
      "import ogr\n",
      "#import pygame\n",
      "import time\n",
      "import math\n",
      "\n",
      "import util"
     ],
     "language": "python",
     "metadata": {},
     "outputs": []
    },
    {
     "cell_type": "markdown",
     "metadata": {},
     "source": [
      "http://clerk.seattle.gov/~public/charter/charter.htm#articleIV has census tracts and census tracts and block numbers where the entire set of blocks isn't part of the district.\n",
      "\n",
      "Does 'block group' of 1 mean every block between 1000 and 1999?"
     ]
    },
    {
     "cell_type": "code",
     "collapsed": false,
     "input": [
      "filename_districts = \"data/seattle_council_districts.csv\""
     ],
     "language": "python",
     "metadata": {},
     "outputs": []
    },
    {
     "cell_type": "code",
     "collapsed": false,
     "input": [
      "import csv\n",
      "\n",
      "districts = {}\n",
      "with open(filename_districts, 'rb') as csvfile:\n",
      "    election = csv.reader(csvfile, delimiter=',') #, quotechar='|')\n",
      "    for j, row in enumerate(election):\n",
      "        if j == 0:\n",
      "            header = row\n",
      "            continue\n",
      "\n",
      "        new_area = {}\n",
      "        for i, val in enumerate(row):\n",
      "            if i > 3: \n",
      "                continue  \n",
      "            if val == '':\n",
      "                continue\n",
      "            new_area[header[i]] = val\n",
      "        #print new_area\n",
      "               \n",
      "        district_ind = row[0]\n",
      "        if not district_ind in districts:\n",
      "            districts[district_ind] = []\n",
      "        districts[district_ind].append(new_area)\n",
      "        \n",
      "#print districts['1']"
     ],
     "language": "python",
     "metadata": {},
     "outputs": []
    },
    {
     "cell_type": "code",
     "collapsed": false,
     "input": [
      "print districts"
     ],
     "language": "python",
     "metadata": {},
     "outputs": []
    }
   ],
   "metadata": {}
  }
 ]
}
{
 "metadata": {
  "name": ""
 },
 "nbformat": 3,
 "nbformat_minor": 0,
 "worksheets": [
  {
   "cells": [
    {
     "cell_type": "markdown",
     "metadata": {},
     "source": [
      "# Seattle Council Districts"
     ]
    },
    {
     "cell_type": "code",
     "collapsed": false,
     "input": [
      "import sys\n",
      "import ogr\n",
      "#import pygame\n",
      "import time\n",
      "import math\n",
      "\n",
      "import util"
     ],
     "language": "python",
     "metadata": {},
     "outputs": []
    },
    {
     "cell_type": "markdown",
     "metadata": {},
     "source": [
      "http://clerk.seattle.gov/~public/charter/charter.htm#articleIV has census tracts and census tracts and block numbers where the entire set of blocks isn't part of the district.\n",
      "\n",
      "Does 'block group' of 1 mean every block between 1000 and 1999?"
     ]
    },
    {
     "cell_type": "code",
     "collapsed": false,
     "input": [
      "filename_districts = \"data/seattle_council_districts.csv\""
     ],
     "language": "python",
     "metadata": {},
     "outputs": []
    },
    {
     "cell_type": "code",
     "collapsed": true,
     "input": [
      "import csv\n",
      "\n",
      "districts = {}\n",
      "tracts = {}\n",
      "with open(filename_districts, 'rb') as csvfile:\n",
      "    election = csv.reader(csvfile, delimiter=',') #, quotechar='|')\n",
      "    for j, row in enumerate(election):\n",
      "        if j == 0:\n",
      "            header = row\n",
      "            continue\n",
      "\n",
      "        new_area = {}\n",
      "        for i, val in enumerate(row):\n",
      "            if i > 3: \n",
      "                continue  \n",
      "            if val == '':\n",
      "                continue\n",
      "            new_area[header[i]] = val\n",
      "        #print new_area\n",
      "               \n",
      "        district_ind = row[0]\n",
      "        if not district_ind in districts:\n",
      "            districts[district_ind] = []\n",
      "        districts[district_ind].append(new_area)\n",
      "        \n",
      "        tract = int(float(row[1]) * 100)\n",
      "        #print tract, new_area\n",
      "        if not tract in tracts:\n",
      "            tracts[tract] = []\n",
      "        tracts[tract].append(new_area)\n",
      "        \n",
      "print sorted(districts.keys())\n",
      "#print tracts.keys()"
     ],
     "language": "python",
     "metadata": {},
     "outputs": []
    },
    {
     "cell_type": "code",
     "collapsed": false,
     "input": [
      "print tracts.keys()"
     ],
     "language": "python",
     "metadata": {},
     "outputs": []
    },
    {
     "cell_type": "code",
     "collapsed": false,
     "input": [
      "#print tracts\n",
      "print districts"
     ],
     "language": "python",
     "metadata": {},
     "outputs": []
    },
    {
     "cell_type": "code",
     "collapsed": false,
     "input": [
      "folder = \"../../gis/census/\"\n",
      "# WA\n",
      "shp = \"tabblock2010_53_pophu.shp\"\n",
      "\n"
     ],
     "language": "python",
     "metadata": {},
     "outputs": []
    },
    {
     "cell_type": "code",
     "collapsed": false,
     "input": [
      "# open the file, convert gdal to pts, limit geographical area\n",
      "def process(input_filename):\n",
      "\n",
      "    # open the shapefile\n",
      "    ds = ogr.Open( input_filename )\n",
      "    if ds is None:\n",
      "        print \"Open failed.\\n\"\n",
      "        sys.exit( 1 )\n",
      "\n",
      "    lyr = ds.GetLayerByIndex( 0 )\n",
      "\n",
      "    lyr.ResetReading()\n",
      "\n",
      "    feat_defn = lyr.GetLayerDefn()\n",
      "    field_defns = [feat_defn.GetFieldDefn(i) for i in range(feat_defn.GetFieldCount())]\n",
      "\n",
      "    # look up the index of the field we're interested in\n",
      "    for i, defn in enumerate( field_defns ):\n",
      "        if defn.GetName()==\"POP10\":\n",
      "            pop_field = i\n",
      "        if defn.GetName()==\"TRACTCE10\":\n",
      "            tract_field = i\n",
      "\n",
      "    n_features = len(lyr)\n",
      "\n",
      "    x1 = float(\"inf\")\n",
      "    y1 = float(\"inf\")\n",
      "    x2 = float(\"-inf\")\n",
      "    y2 = float(\"-inf\")\n",
      "    \n",
      "    census_dist = {}\n",
      "    \n",
      "    # mainly find the bounds, clip to lims\n",
      "    for j, feat in enumerate( lyr ):\n",
      "\n",
      "        tract = int(feat.GetField(tract_field))\n",
      "        \n",
      "        if tract not in tracts:\n",
      "            continue\n",
      "        \n",
      "        dist_ind = tracts[tract][0]['District']\n",
      "        \n",
      "        #continue\n",
      "        pop = feat.GetField(pop_field)\n",
      "        geom = feat.GetGeometryRef()\n",
      "        if geom is None:\n",
      "            continue\n",
      "        \n",
      "        dat = util.get_pts(geom)\n",
      "        if dat is None:\n",
      "            continue\n",
      "        pts, bb = dat\n",
      "\n",
      "        x1 = min(x1, bb[0])\n",
      "        y1 = min(y1, bb[1])\n",
      "        x2 = max(x2, bb[2])\n",
      "        y2 = max(y2, bb[3])\n",
      "        \n",
      "        new_val = {}\n",
      "        new_val['pts'] = pts\n",
      "        new_val['bb']  = bb\n",
      "        new_val['pop'] = pop\n",
      "        \n",
      "        if not dist_ind in census_dist:\n",
      "            census_dist[dist_ind] = []\n",
      "        census_dist[dist_ind].append(new_val)\n",
      "        #census_pre.append((bb, pts, pop))\n",
      "    \n",
      "    bbg = x1, y1, x2, y2\n",
      "    print \"bounding box \", bbg\n",
      "    \n",
      "        \n",
      "    # TODO split here\n",
      "    return census_dist, bbg"
     ],
     "language": "python",
     "metadata": {},
     "outputs": []
    },
    {
     "cell_type": "code",
     "collapsed": false,
     "input": [
      "\n",
      "census_dist, bbg = process(folder + shp)"
     ],
     "language": "python",
     "metadata": {},
     "outputs": []
    }
   ],
   "metadata": {}
  }
 ]
}
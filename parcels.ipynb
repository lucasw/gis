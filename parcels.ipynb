{
 "metadata": {
  "name": ""
 },
 "nbformat": 3,
 "nbformat_minor": 0,
 "worksheets": [
  {
   "cells": [
    {
     "cell_type": "code",
     "collapsed": false,
     "input": [
      "import fiona\n",
      "import shapely.ops\n",
      "\n",
      "def get_shp(filename):\n",
      "    handle = fiona.open(filename)\n",
      "    boundaries = {}\n",
      "    for ind, area in enumerate(handle):\n",
      "        #print ind, area['properties']\n",
      "        geom = shapely.geometry.shape(area['geometry'])\n",
      "        # need to make the polygons overlap just a little\n",
      "        # to make the union produce a single outer boundary\n",
      "\n",
      "        boundaries[ind] = {}\n",
      "        boundaries[ind]['geom'] = geom\n",
      "        boundaries[ind]['raw'] = area\n",
      "\n",
      "    return boundaries\n"
     ],
     "language": "python",
     "metadata": {},
     "outputs": []
    },
    {
     "cell_type": "code",
     "collapsed": false,
     "input": [
      "name = \"../../gis/kc_property/property/output/temp/temp/select_seattle_parcel.shp\"\n",
      "\n",
      "#import util2\n",
      "import time\n",
      "# this takes a few minutes to load\n",
      "\n",
      "t1 = time.time()\n",
      "boundaries = get_shp(name)\n",
      "elapsed_time = time.time() - t1\n",
      "print 'elapsed time', elapsed_time"
     ],
     "language": "python",
     "metadata": {},
     "outputs": []
    },
    {
     "cell_type": "code",
     "collapsed": false,
     "input": [
      "num_parcels = len(boundaries.keys())\n",
      "print 'num parcels', num_parcels\n",
      "\n",
      "properties = boundaries[boundaries.keys()[0]]['raw']['properties']\n",
      "for i in properties:\n",
      "    print i\n",
      "    \n",
      "# square feet\n",
      "print boundaries[boundaries.keys()[0]]['raw']['properties']['Shape_area']"
     ],
     "language": "python",
     "metadata": {},
     "outputs": []
    },
    {
     "cell_type": "code",
     "collapsed": false,
     "input": [
      "areas = zeros((num_parcels, 1))\n",
      "t1 = time.time()\n",
      "for i, key in enumerate(boundaries.keys()):\n",
      "    parcel = boundaries[key]\n",
      "    areas[i,0] = parcel['raw']['properties']['Shape_area']\n",
      "    \n",
      "elapsed_time = time.time() - t1\n",
      "print 'elapsed time', elapsed_time\n",
      "\n",
      "plot(areas[:,0], '.')"
     ],
     "language": "python",
     "metadata": {},
     "outputs": []
    },
    {
     "cell_type": "code",
     "collapsed": false,
     "input": [],
     "language": "python",
     "metadata": {},
     "outputs": []
    }
   ],
   "metadata": {}
  }
 ]
}
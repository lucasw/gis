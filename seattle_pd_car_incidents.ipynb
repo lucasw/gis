{
 "metadata": {
  "name": ""
 },
 "nbformat": 3,
 "nbformat_minor": 0,
 "worksheets": [
  {
   "cells": [
    {
     "cell_type": "code",
     "collapsed": false,
     "input": [
      "filename = \"../../beacon_hill/crashes/Seattle_Police_Department_911_Incident_Response.csv\"\n"
     ],
     "language": "python",
     "metadata": {},
     "outputs": []
    },
    {
     "cell_type": "code",
     "collapsed": false,
     "input": [
      "import csv\n",
      "\n",
      "def get_crashes(filename):\n",
      "    crashes = {}\n",
      "\n",
      "    with open(filename, 'rb') as csvfile:\n",
      "        data = csv.reader(csvfile, delimiter=',') #, quotechar='|')\n",
      "\n",
      "        lat_ind = None\n",
      "        lng_ind = None\n",
      "        for j, row in enumerate(data):\n",
      "\n",
      "            if j == 0:\n",
      "                print row\n",
      "                # get the indices for the import columns\n",
      "                for i in range(len(row)):\n",
      "                    if row[i] == '':\n",
      "                        continue\n",
      "                    #print i, row[i]\n",
      "                    if row[i] == 'CAD CDW ID':\n",
      "                        id_ind = i\n",
      "                    if row[i] == 'Latitude':\n",
      "                        lat_ind = i\n",
      "                    if row[i] == 'Longitude':\n",
      "                        lng_ind = i\n",
      "                    \n",
      "                continue\n",
      "\n",
      "            idnum = row[id_ind]\n",
      "            crashes[idnum] = {}\n",
      "            crashes[idnum]['latitude']  = row[lat_ind]\n",
      "            crashes[idnum]['longitude'] = row[lng_ind]\n",
      "        \n",
      "        print j, 'incidents', len(crashes.keys())\n",
      "            \n",
      "    return crashes"
     ],
     "language": "python",
     "metadata": {},
     "outputs": []
    },
    {
     "cell_type": "code",
     "collapsed": false,
     "input": [
      "crashes = get_crashes(filename)"
     ],
     "language": "python",
     "metadata": {},
     "outputs": []
    },
    {
     "cell_type": "code",
     "collapsed": false,
     "input": [
      "x = [crashes[idnum]['longitude'] for idnum in crashes.keys()]\n",
      "y = [crashes[idnum]['latitude'] for idnum in crashes.keys()]"
     ],
     "language": "python",
     "metadata": {},
     "outputs": []
    },
    {
     "cell_type": "code",
     "collapsed": false,
     "input": [
      "fig = figure(figsize=(25,25))\n",
      "fr = 1.0/0.67\n",
      "ax = fig.add_subplot(111,  aspect = fr)\n",
      "plot(x,y,'r.',ms = 2, alpha = 0.1)\n",
      "savefig('output/crashes.png', dpi=400)\n",
      "\n"
     ],
     "language": "python",
     "metadata": {},
     "outputs": []
    }
   ],
   "metadata": {}
  }
 ]
}
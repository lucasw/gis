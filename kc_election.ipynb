{
 "metadata": {
  "name": ""
 },
 "nbformat": 3,
 "nbformat_minor": 0,
 "worksheets": [
  {
   "cells": [
    {
     "cell_type": "code",
     "collapsed": false,
     "input": [
      "name = \"../../gis/kc_2014_prop1_ecanvass.csv\""
     ],
     "language": "python",
     "metadata": {},
     "outputs": []
    },
    {
     "cell_type": "code",
     "collapsed": false,
     "input": [
      "import csv\n",
      "\n",
      "votes = {}\n",
      "\n",
      "with open(name, 'rb') as csvfile:\n",
      "    election = csv.reader(csvfile, delimiter=',') #, quotechar='|')\n",
      "    for row in election:\n",
      "        district = row[0]\n",
      "        vote_type = row[7]\n",
      "        num = row[8]\n",
      "        if not district in votes:\n",
      "            votes[district] = {}\n",
      "        votes[district][vote_type] = num\n",
      "\n",
      "for key in votes:\n",
      "    print votes[key]\n",
      "#print votes"
     ],
     "language": "python",
     "metadata": {},
     "outputs": []
    }
   ],
   "metadata": {}
  }
 ]
}